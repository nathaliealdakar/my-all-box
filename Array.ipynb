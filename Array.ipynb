{
  "nbformat": 4,
  "nbformat_minor": 0,
  "metadata": {
    "colab": {
      "provenance": [],
      "authorship_tag": "ABX9TyNazV0AmfgWj/9QkA2ge9lO",
      "include_colab_link": true
    },
    "kernelspec": {
      "name": "python3",
      "display_name": "Python 3"
    },
    "language_info": {
      "name": "python"
    }
  },
  "cells": [
    {
      "cell_type": "markdown",
      "metadata": {
        "id": "view-in-github",
        "colab_type": "text"
      },
      "source": [
        "<a href=\"https://colab.research.google.com/github/nathaliealdakar/my-all-box/blob/main/Array.ipynb\" target=\"_parent\"><img src=\"https://colab.research.google.com/assets/colab-badge.svg\" alt=\"Open In Colab\"/></a>"
      ]
    },
    {
      "cell_type": "markdown",
      "source": [
        "Array"
      ],
      "metadata": {
        "id": "pAC9c7Ue3iCw"
      }
    },
    {
      "cell_type": "markdown",
      "source": [
        "1"
      ],
      "metadata": {
        "id": "ajtAw2hf3meG"
      }
    },
    {
      "cell_type": "code",
      "execution_count": null,
      "metadata": {
        "id": "iszJJyG73K16"
      },
      "outputs": [],
      "source": [
        "# Array1: Generate first N positive odd numbers\n",
        "N = int(input(\"Enter N (>0): \"))\n",
        "if N <= 0:\n",
        "    print(\"Invalid input\")\n",
        "else:\n",
        "    array = [2*i + 1 for i in range(N)]  # 1, 3, 5, ..., (2N-1)\n",
        "    print(f\"Result: {array}\")"
      ]
    },
    {
      "cell_type": "markdown",
      "source": [
        "2"
      ],
      "metadata": {
        "id": "VYfOLeX634cC"
      }
    },
    {
      "cell_type": "code",
      "source": [
        "# Array2: Generate powers of two from 2^1 to 2^N\n",
        "N = int(input(\"Enter N (>0): \"))\n",
        "if N <= 0:\n",
        "    print(\"Invalid input\")\n",
        "else:\n",
        "    array = [2 ** (i+1) for i in range(N)]  # 2, 4, 8, ..., 2^N\n",
        "    print(f\"Result: {array}\")"
      ],
      "metadata": {
        "id": "XNAYQZ2433ty"
      },
      "execution_count": null,
      "outputs": []
    },
    {
      "cell_type": "markdown",
      "source": [
        "3"
      ],
      "metadata": {
        "id": "IqJQJTUC38ja"
      }
    },
    {
      "cell_type": "code",
      "source": [
        "# Array3: Generate arithmetic progression\n",
        "N = int(input(\"Enter N (>1): \"))\n",
        "A = float(input(\"Enter first term (A): \"))\n",
        "D = float(input(\"Enter difference (D): \"))\n",
        "\n",
        "array = [A + i*D for i in range(N)]  # A, A+D, A+2D, ..., A+(N-1)D\n",
        "print(f\"Result: {array}\")"
      ],
      "metadata": {
        "colab": {
          "base_uri": "https://localhost:8080/"
        },
        "id": "Y5oBMEot394U",
        "outputId": "f69360a4-c615-419a-93bc-390ab92906fb"
      },
      "execution_count": 1,
      "outputs": [
        {
          "output_type": "stream",
          "name": "stdout",
          "text": [
            "Enter N (>1): 4\n",
            "Enter first term (A): 1\n",
            "Enter difference (D): 5\n",
            "Result: [1.0, 6.0, 11.0, 16.0]\n"
          ]
        }
      ]
    },
    {
      "cell_type": "markdown",
      "source": [
        "4"
      ],
      "metadata": {
        "id": "ONBcdZcF4Bk9"
      }
    },
    {
      "cell_type": "code",
      "source": [
        "# Array4: Generate geometric progression\n",
        "N = int(input(\"Enter N (>1): \"))\n",
        "A = float(input(\"Enter first term (A): \"))\n",
        "D = float(input(\"Enter ratio (D): \"))\n",
        "\n",
        "array = [A * (D ** i) for i in range(N)]  # A, A*D, A*D^2, ..., A*D^(N-1)\n",
        "print(f\"Result: {array}\")"
      ],
      "metadata": {
        "id": "5tNqPCbX3_4Z"
      },
      "execution_count": null,
      "outputs": []
    },
    {
      "cell_type": "markdown",
      "source": [
        "5"
      ],
      "metadata": {
        "id": "iGwbL1KC4JZ1"
      }
    },
    {
      "cell_type": "code",
      "source": [
        "# Array5: Generate first N Fibonacci numbers\n",
        "N = int(input(\"Enter N (>2): \"))\n",
        "if N <= 2:\n",
        "    print(\"Invalid input (N must be > 2)\")\n",
        "else:\n",
        "    fib = [1, 1]  # F1 = 1, F2 = 1\n",
        "    for i in range(2, N):\n",
        "        next_term = fib[i-2] + fib[i-1]\n",
        "        fib.append(next_term)\n",
        "    print(f\"Result: {fib}\")"
      ],
      "metadata": {
        "id": "nG8Wtiqk4KAO"
      },
      "execution_count": null,
      "outputs": []
    }
  ]
}